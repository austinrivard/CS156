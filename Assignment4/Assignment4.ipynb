{
  "cells": [
    {
      "cell_type": "markdown",
      "metadata": {
        "id": "Y8rDf8Kcg22R"
      },
      "source": [
        "# <b>CS156 (Introduction to AI), Spring 2022</b>\n",
        "# <u><b>Homework 4 submission</b></u>"
      ]
    },
    {
      "cell_type": "markdown",
      "metadata": {
        "id": "bo_JXihgg22T"
      },
      "source": [
        "### Roster Name: Austin Rivard\n",
        "### Preferred Name (if different):\n",
        "### Student ID: 015044445\n",
        "### Email address: austin.rivard@sjsu.edu\n",
        "Any special notes or anything you would like to communicate to me about this homework submission goes in here."
      ]
    },
    {
      "cell_type": "markdown",
      "metadata": {
        "id": "03fwhf-Fg22T"
      },
      "source": [
        "##  <u>References and sources </u>"
      ]
    },
    {
      "cell_type": "markdown",
      "metadata": {
        "id": "fGqLao9Ng22U"
      },
      "source": [
        "List all your references and sources here.\n",
        "This includes all sites/discussion boards/blogs/posts/etc. where you grabbed some code examples."
      ]
    },
    {
      "cell_type": "markdown",
      "metadata": {
        "id": "vSsGpuzig22V"
      },
      "source": [
        "##  <u>Solution</u>"
      ]
    },
    {
      "cell_type": "markdown",
      "metadata": {
        "id": "D5nKWSP0g22V"
      },
      "source": [
        "#### Load libraries and set random number generator seed"
      ]
    },
    {
      "cell_type": "code",
      "execution_count": 1,
      "metadata": {
        "id": "I3xqnNgmg22V"
      },
      "outputs": [],
      "source": [
        "import numpy as np\n",
        "import pandas as pd\n",
        "import matplotlib.pyplot as plt\n",
        "from sklearn.model_selection import cross_val_score\n",
        "import seaborn as sns\n",
        "from sklearn.model_selection import train_test_split\n",
        "from sklearn.decomposition import PCA\n",
        "from sklearn.preprocessing import StandardScaler\n",
        "from sklearn.svm import LinearSVC\n",
        "from sklearn.metrics import plot_confusion_matrix"
      ]
    },
    {
      "cell_type": "code",
      "execution_count": 2,
      "metadata": {
        "id": "opQ4sTdjg22W"
      },
      "outputs": [],
      "source": [
        "np.random.seed(42)"
      ]
    },
    {
      "cell_type": "code",
      "source": [
        "from google.colab import drive\n",
        "drive.mount('/content/drive')"
      ],
      "metadata": {
        "colab": {
          "base_uri": "https://localhost:8080/"
        },
        "id": "xfYbJg3h02AZ",
        "outputId": "c0cfdc83-495f-447d-9082-9bcf9e1e380f"
      },
      "execution_count": 3,
      "outputs": [
        {
          "output_type": "stream",
          "name": "stdout",
          "text": [
            "Drive already mounted at /content/drive; to attempt to forcibly remount, call drive.mount(\"/content/drive\", force_remount=True).\n"
          ]
        }
      ]
    },
    {
      "cell_type": "markdown",
      "metadata": {
        "id": "t7M5OMBig22X"
      },
      "source": [
        "#### Code the solution"
      ]
    },
    {
      "cell_type": "code",
      "execution_count": 4,
      "metadata": {
        "id": "JzX8s4f8g22Y",
        "outputId": "ed2fab65-9119-45f9-e02d-4d38b67c9ca5",
        "colab": {
          "base_uri": "https://localhost:8080/",
          "height": 1000
        }
      },
      "outputs": [
        {
          "output_type": "execute_result",
          "data": {
            "text/plain": [
              "                   id      ASS1       SPX  C6orf141       SP5       SP6  \\\n",
              "0     TCGA-AB-2828-03  3.935027  0.523329  0.000000  0.000000  0.102277   \n",
              "1     TCGA-AB-2846-03  3.372801  0.000000  0.000000  0.000000  0.116270   \n",
              "2     TCGA-AB-2870-03  4.198301  0.000000  0.000000  0.000000  0.249176   \n",
              "3     TCGA-AB-2872-03  4.115014  0.000000  0.000000  0.222018  0.632254   \n",
              "4     TCGA-AB-2881-03  3.662169  0.467823  0.000000  0.000000  0.000000   \n",
              "...               ...       ...       ...       ...       ...       ...   \n",
              "4331  TCGA-PG-A5BC-01  6.752567  2.061867  2.220238  1.670146  2.089802   \n",
              "4332  TCGA-PG-A6IB-01  6.481851  0.195973  3.082744  3.152085  1.974102   \n",
              "4333  TCGA-PG-A7D5-01  7.776659  0.859361  2.016015  1.995366  3.934322   \n",
              "4334  TCGA-PG-A914-01  8.421619  1.287896  0.000000  0.147612  2.094130   \n",
              "4335  TCGA-PG-A915-01  6.678433  0.859361  5.170569  0.631781  1.974102   \n",
              "\n",
              "         ITGA8    ATP2A1    ATP2A3     ITGA2  ...     IKZF1   SLC14A1  \\\n",
              "0     2.686908  2.837357  7.444575  2.246715  ...  8.972232  1.560704   \n",
              "1     2.083429  5.567935  8.361999  3.626850  ...  8.662337  2.509522   \n",
              "2     1.546059  6.605116  9.138359  2.858430  ...  8.848274  3.137405   \n",
              "3     2.158989  6.858708  9.201254  2.295229  ...  7.730065  3.087055   \n",
              "4     1.183388  5.567935  9.040883  1.815837  ...  8.414421  2.683150   \n",
              "...        ...       ...       ...       ...  ...       ...       ...   \n",
              "4331  4.105404  2.631701  3.974129  4.013841  ...  3.698293  1.362715   \n",
              "4332  2.222543  2.449799  5.039194  2.903390  ...  4.814241  1.090338   \n",
              "4333  2.520344  3.657478  3.805650  3.698809  ...  3.442377  2.463595   \n",
              "4334  2.266953  1.881556  3.754020  3.412572  ...  4.304535  0.841096   \n",
              "4335  2.234900  2.836151  3.720234  3.950507  ...  2.864401  1.830926   \n",
              "\n",
              "        TCEAL2    TCEAL7    TCEAL5       VCAN       CDR1    KRBOX1      SELL  \\\n",
              "0     0.000000  0.000000  0.000000  11.189255   5.866117  0.000000  7.560923   \n",
              "1     0.000000  0.000000  0.000000   9.472547   6.514825  0.289298  8.023838   \n",
              "2     0.185980  0.000000  0.000000   9.710047   0.000000  0.000000  8.031553   \n",
              "3     0.380857  0.236820  0.000000   6.085074   6.012453  0.411678  5.186830   \n",
              "4     0.176611  0.000000  0.000000   8.203471   5.718898  0.000000  8.031553   \n",
              "...        ...       ...       ...        ...        ...       ...       ...   \n",
              "4331  3.888618  5.573470  4.011728   7.686758   7.651728  3.293383  2.737921   \n",
              "4332  2.564054  4.638007  3.420460   6.780378   6.572266  0.912975  3.518969   \n",
              "4333  5.406420  4.638007  4.104928   6.908519  10.183748  4.845148  2.069559   \n",
              "4334  0.814483  1.931713  2.962235   6.634303   6.314444  1.895622  2.899793   \n",
              "4335  4.964974  2.076271  3.788381   6.595265   0.000000  1.038546  1.524757   \n",
              "\n",
              "         Class  \n",
              "0     Leukemia  \n",
              "1     Leukemia  \n",
              "2     Leukemia  \n",
              "3     Leukemia  \n",
              "4     Leukemia  \n",
              "...        ...  \n",
              "4331   Uterine  \n",
              "4332   Uterine  \n",
              "4333   Uterine  \n",
              "4334   Uterine  \n",
              "4335   Uterine  \n",
              "\n",
              "[4336 rows x 3002 columns]"
            ],
            "text/html": [
              "\n",
              "  <div id=\"df-615c5d6f-a007-48b5-b0fe-271e4d708b4c\">\n",
              "    <div class=\"colab-df-container\">\n",
              "      <div>\n",
              "<style scoped>\n",
              "    .dataframe tbody tr th:only-of-type {\n",
              "        vertical-align: middle;\n",
              "    }\n",
              "\n",
              "    .dataframe tbody tr th {\n",
              "        vertical-align: top;\n",
              "    }\n",
              "\n",
              "    .dataframe thead th {\n",
              "        text-align: right;\n",
              "    }\n",
              "</style>\n",
              "<table border=\"1\" class=\"dataframe\">\n",
              "  <thead>\n",
              "    <tr style=\"text-align: right;\">\n",
              "      <th></th>\n",
              "      <th>id</th>\n",
              "      <th>ASS1</th>\n",
              "      <th>SPX</th>\n",
              "      <th>C6orf141</th>\n",
              "      <th>SP5</th>\n",
              "      <th>SP6</th>\n",
              "      <th>ITGA8</th>\n",
              "      <th>ATP2A1</th>\n",
              "      <th>ATP2A3</th>\n",
              "      <th>ITGA2</th>\n",
              "      <th>...</th>\n",
              "      <th>IKZF1</th>\n",
              "      <th>SLC14A1</th>\n",
              "      <th>TCEAL2</th>\n",
              "      <th>TCEAL7</th>\n",
              "      <th>TCEAL5</th>\n",
              "      <th>VCAN</th>\n",
              "      <th>CDR1</th>\n",
              "      <th>KRBOX1</th>\n",
              "      <th>SELL</th>\n",
              "      <th>Class</th>\n",
              "    </tr>\n",
              "  </thead>\n",
              "  <tbody>\n",
              "    <tr>\n",
              "      <th>0</th>\n",
              "      <td>TCGA-AB-2828-03</td>\n",
              "      <td>3.935027</td>\n",
              "      <td>0.523329</td>\n",
              "      <td>0.000000</td>\n",
              "      <td>0.000000</td>\n",
              "      <td>0.102277</td>\n",
              "      <td>2.686908</td>\n",
              "      <td>2.837357</td>\n",
              "      <td>7.444575</td>\n",
              "      <td>2.246715</td>\n",
              "      <td>...</td>\n",
              "      <td>8.972232</td>\n",
              "      <td>1.560704</td>\n",
              "      <td>0.000000</td>\n",
              "      <td>0.000000</td>\n",
              "      <td>0.000000</td>\n",
              "      <td>11.189255</td>\n",
              "      <td>5.866117</td>\n",
              "      <td>0.000000</td>\n",
              "      <td>7.560923</td>\n",
              "      <td>Leukemia</td>\n",
              "    </tr>\n",
              "    <tr>\n",
              "      <th>1</th>\n",
              "      <td>TCGA-AB-2846-03</td>\n",
              "      <td>3.372801</td>\n",
              "      <td>0.000000</td>\n",
              "      <td>0.000000</td>\n",
              "      <td>0.000000</td>\n",
              "      <td>0.116270</td>\n",
              "      <td>2.083429</td>\n",
              "      <td>5.567935</td>\n",
              "      <td>8.361999</td>\n",
              "      <td>3.626850</td>\n",
              "      <td>...</td>\n",
              "      <td>8.662337</td>\n",
              "      <td>2.509522</td>\n",
              "      <td>0.000000</td>\n",
              "      <td>0.000000</td>\n",
              "      <td>0.000000</td>\n",
              "      <td>9.472547</td>\n",
              "      <td>6.514825</td>\n",
              "      <td>0.289298</td>\n",
              "      <td>8.023838</td>\n",
              "      <td>Leukemia</td>\n",
              "    </tr>\n",
              "    <tr>\n",
              "      <th>2</th>\n",
              "      <td>TCGA-AB-2870-03</td>\n",
              "      <td>4.198301</td>\n",
              "      <td>0.000000</td>\n",
              "      <td>0.000000</td>\n",
              "      <td>0.000000</td>\n",
              "      <td>0.249176</td>\n",
              "      <td>1.546059</td>\n",
              "      <td>6.605116</td>\n",
              "      <td>9.138359</td>\n",
              "      <td>2.858430</td>\n",
              "      <td>...</td>\n",
              "      <td>8.848274</td>\n",
              "      <td>3.137405</td>\n",
              "      <td>0.185980</td>\n",
              "      <td>0.000000</td>\n",
              "      <td>0.000000</td>\n",
              "      <td>9.710047</td>\n",
              "      <td>0.000000</td>\n",
              "      <td>0.000000</td>\n",
              "      <td>8.031553</td>\n",
              "      <td>Leukemia</td>\n",
              "    </tr>\n",
              "    <tr>\n",
              "      <th>3</th>\n",
              "      <td>TCGA-AB-2872-03</td>\n",
              "      <td>4.115014</td>\n",
              "      <td>0.000000</td>\n",
              "      <td>0.000000</td>\n",
              "      <td>0.222018</td>\n",
              "      <td>0.632254</td>\n",
              "      <td>2.158989</td>\n",
              "      <td>6.858708</td>\n",
              "      <td>9.201254</td>\n",
              "      <td>2.295229</td>\n",
              "      <td>...</td>\n",
              "      <td>7.730065</td>\n",
              "      <td>3.087055</td>\n",
              "      <td>0.380857</td>\n",
              "      <td>0.236820</td>\n",
              "      <td>0.000000</td>\n",
              "      <td>6.085074</td>\n",
              "      <td>6.012453</td>\n",
              "      <td>0.411678</td>\n",
              "      <td>5.186830</td>\n",
              "      <td>Leukemia</td>\n",
              "    </tr>\n",
              "    <tr>\n",
              "      <th>4</th>\n",
              "      <td>TCGA-AB-2881-03</td>\n",
              "      <td>3.662169</td>\n",
              "      <td>0.467823</td>\n",
              "      <td>0.000000</td>\n",
              "      <td>0.000000</td>\n",
              "      <td>0.000000</td>\n",
              "      <td>1.183388</td>\n",
              "      <td>5.567935</td>\n",
              "      <td>9.040883</td>\n",
              "      <td>1.815837</td>\n",
              "      <td>...</td>\n",
              "      <td>8.414421</td>\n",
              "      <td>2.683150</td>\n",
              "      <td>0.176611</td>\n",
              "      <td>0.000000</td>\n",
              "      <td>0.000000</td>\n",
              "      <td>8.203471</td>\n",
              "      <td>5.718898</td>\n",
              "      <td>0.000000</td>\n",
              "      <td>8.031553</td>\n",
              "      <td>Leukemia</td>\n",
              "    </tr>\n",
              "    <tr>\n",
              "      <th>...</th>\n",
              "      <td>...</td>\n",
              "      <td>...</td>\n",
              "      <td>...</td>\n",
              "      <td>...</td>\n",
              "      <td>...</td>\n",
              "      <td>...</td>\n",
              "      <td>...</td>\n",
              "      <td>...</td>\n",
              "      <td>...</td>\n",
              "      <td>...</td>\n",
              "      <td>...</td>\n",
              "      <td>...</td>\n",
              "      <td>...</td>\n",
              "      <td>...</td>\n",
              "      <td>...</td>\n",
              "      <td>...</td>\n",
              "      <td>...</td>\n",
              "      <td>...</td>\n",
              "      <td>...</td>\n",
              "      <td>...</td>\n",
              "      <td>...</td>\n",
              "    </tr>\n",
              "    <tr>\n",
              "      <th>4331</th>\n",
              "      <td>TCGA-PG-A5BC-01</td>\n",
              "      <td>6.752567</td>\n",
              "      <td>2.061867</td>\n",
              "      <td>2.220238</td>\n",
              "      <td>1.670146</td>\n",
              "      <td>2.089802</td>\n",
              "      <td>4.105404</td>\n",
              "      <td>2.631701</td>\n",
              "      <td>3.974129</td>\n",
              "      <td>4.013841</td>\n",
              "      <td>...</td>\n",
              "      <td>3.698293</td>\n",
              "      <td>1.362715</td>\n",
              "      <td>3.888618</td>\n",
              "      <td>5.573470</td>\n",
              "      <td>4.011728</td>\n",
              "      <td>7.686758</td>\n",
              "      <td>7.651728</td>\n",
              "      <td>3.293383</td>\n",
              "      <td>2.737921</td>\n",
              "      <td>Uterine</td>\n",
              "    </tr>\n",
              "    <tr>\n",
              "      <th>4332</th>\n",
              "      <td>TCGA-PG-A6IB-01</td>\n",
              "      <td>6.481851</td>\n",
              "      <td>0.195973</td>\n",
              "      <td>3.082744</td>\n",
              "      <td>3.152085</td>\n",
              "      <td>1.974102</td>\n",
              "      <td>2.222543</td>\n",
              "      <td>2.449799</td>\n",
              "      <td>5.039194</td>\n",
              "      <td>2.903390</td>\n",
              "      <td>...</td>\n",
              "      <td>4.814241</td>\n",
              "      <td>1.090338</td>\n",
              "      <td>2.564054</td>\n",
              "      <td>4.638007</td>\n",
              "      <td>3.420460</td>\n",
              "      <td>6.780378</td>\n",
              "      <td>6.572266</td>\n",
              "      <td>0.912975</td>\n",
              "      <td>3.518969</td>\n",
              "      <td>Uterine</td>\n",
              "    </tr>\n",
              "    <tr>\n",
              "      <th>4333</th>\n",
              "      <td>TCGA-PG-A7D5-01</td>\n",
              "      <td>7.776659</td>\n",
              "      <td>0.859361</td>\n",
              "      <td>2.016015</td>\n",
              "      <td>1.995366</td>\n",
              "      <td>3.934322</td>\n",
              "      <td>2.520344</td>\n",
              "      <td>3.657478</td>\n",
              "      <td>3.805650</td>\n",
              "      <td>3.698809</td>\n",
              "      <td>...</td>\n",
              "      <td>3.442377</td>\n",
              "      <td>2.463595</td>\n",
              "      <td>5.406420</td>\n",
              "      <td>4.638007</td>\n",
              "      <td>4.104928</td>\n",
              "      <td>6.908519</td>\n",
              "      <td>10.183748</td>\n",
              "      <td>4.845148</td>\n",
              "      <td>2.069559</td>\n",
              "      <td>Uterine</td>\n",
              "    </tr>\n",
              "    <tr>\n",
              "      <th>4334</th>\n",
              "      <td>TCGA-PG-A914-01</td>\n",
              "      <td>8.421619</td>\n",
              "      <td>1.287896</td>\n",
              "      <td>0.000000</td>\n",
              "      <td>0.147612</td>\n",
              "      <td>2.094130</td>\n",
              "      <td>2.266953</td>\n",
              "      <td>1.881556</td>\n",
              "      <td>3.754020</td>\n",
              "      <td>3.412572</td>\n",
              "      <td>...</td>\n",
              "      <td>4.304535</td>\n",
              "      <td>0.841096</td>\n",
              "      <td>0.814483</td>\n",
              "      <td>1.931713</td>\n",
              "      <td>2.962235</td>\n",
              "      <td>6.634303</td>\n",
              "      <td>6.314444</td>\n",
              "      <td>1.895622</td>\n",
              "      <td>2.899793</td>\n",
              "      <td>Uterine</td>\n",
              "    </tr>\n",
              "    <tr>\n",
              "      <th>4335</th>\n",
              "      <td>TCGA-PG-A915-01</td>\n",
              "      <td>6.678433</td>\n",
              "      <td>0.859361</td>\n",
              "      <td>5.170569</td>\n",
              "      <td>0.631781</td>\n",
              "      <td>1.974102</td>\n",
              "      <td>2.234900</td>\n",
              "      <td>2.836151</td>\n",
              "      <td>3.720234</td>\n",
              "      <td>3.950507</td>\n",
              "      <td>...</td>\n",
              "      <td>2.864401</td>\n",
              "      <td>1.830926</td>\n",
              "      <td>4.964974</td>\n",
              "      <td>2.076271</td>\n",
              "      <td>3.788381</td>\n",
              "      <td>6.595265</td>\n",
              "      <td>0.000000</td>\n",
              "      <td>1.038546</td>\n",
              "      <td>1.524757</td>\n",
              "      <td>Uterine</td>\n",
              "    </tr>\n",
              "  </tbody>\n",
              "</table>\n",
              "<p>4336 rows × 3002 columns</p>\n",
              "</div>\n",
              "      <button class=\"colab-df-convert\" onclick=\"convertToInteractive('df-615c5d6f-a007-48b5-b0fe-271e4d708b4c')\"\n",
              "              title=\"Convert this dataframe to an interactive table.\"\n",
              "              style=\"display:none;\">\n",
              "        \n",
              "  <svg xmlns=\"http://www.w3.org/2000/svg\" height=\"24px\"viewBox=\"0 0 24 24\"\n",
              "       width=\"24px\">\n",
              "    <path d=\"M0 0h24v24H0V0z\" fill=\"none\"/>\n",
              "    <path d=\"M18.56 5.44l.94 2.06.94-2.06 2.06-.94-2.06-.94-.94-2.06-.94 2.06-2.06.94zm-11 1L8.5 8.5l.94-2.06 2.06-.94-2.06-.94L8.5 2.5l-.94 2.06-2.06.94zm10 10l.94 2.06.94-2.06 2.06-.94-2.06-.94-.94-2.06-.94 2.06-2.06.94z\"/><path d=\"M17.41 7.96l-1.37-1.37c-.4-.4-.92-.59-1.43-.59-.52 0-1.04.2-1.43.59L10.3 9.45l-7.72 7.72c-.78.78-.78 2.05 0 2.83L4 21.41c.39.39.9.59 1.41.59.51 0 1.02-.2 1.41-.59l7.78-7.78 2.81-2.81c.8-.78.8-2.07 0-2.86zM5.41 20L4 18.59l7.72-7.72 1.47 1.35L5.41 20z\"/>\n",
              "  </svg>\n",
              "      </button>\n",
              "      \n",
              "  <style>\n",
              "    .colab-df-container {\n",
              "      display:flex;\n",
              "      flex-wrap:wrap;\n",
              "      gap: 12px;\n",
              "    }\n",
              "\n",
              "    .colab-df-convert {\n",
              "      background-color: #E8F0FE;\n",
              "      border: none;\n",
              "      border-radius: 50%;\n",
              "      cursor: pointer;\n",
              "      display: none;\n",
              "      fill: #1967D2;\n",
              "      height: 32px;\n",
              "      padding: 0 0 0 0;\n",
              "      width: 32px;\n",
              "    }\n",
              "\n",
              "    .colab-df-convert:hover {\n",
              "      background-color: #E2EBFA;\n",
              "      box-shadow: 0px 1px 2px rgba(60, 64, 67, 0.3), 0px 1px 3px 1px rgba(60, 64, 67, 0.15);\n",
              "      fill: #174EA6;\n",
              "    }\n",
              "\n",
              "    [theme=dark] .colab-df-convert {\n",
              "      background-color: #3B4455;\n",
              "      fill: #D2E3FC;\n",
              "    }\n",
              "\n",
              "    [theme=dark] .colab-df-convert:hover {\n",
              "      background-color: #434B5C;\n",
              "      box-shadow: 0px 1px 3px 1px rgba(0, 0, 0, 0.15);\n",
              "      filter: drop-shadow(0px 1px 2px rgba(0, 0, 0, 0.3));\n",
              "      fill: #FFFFFF;\n",
              "    }\n",
              "  </style>\n",
              "\n",
              "      <script>\n",
              "        const buttonEl =\n",
              "          document.querySelector('#df-615c5d6f-a007-48b5-b0fe-271e4d708b4c button.colab-df-convert');\n",
              "        buttonEl.style.display =\n",
              "          google.colab.kernel.accessAllowed ? 'block' : 'none';\n",
              "\n",
              "        async function convertToInteractive(key) {\n",
              "          const element = document.querySelector('#df-615c5d6f-a007-48b5-b0fe-271e4d708b4c');\n",
              "          const dataTable =\n",
              "            await google.colab.kernel.invokeFunction('convertToInteractive',\n",
              "                                                     [key], {});\n",
              "          if (!dataTable) return;\n",
              "\n",
              "          const docLinkHtml = 'Like what you see? Visit the ' +\n",
              "            '<a target=\"_blank\" href=https://colab.research.google.com/notebooks/data_table.ipynb>data table notebook</a>'\n",
              "            + ' to learn more about interactive tables.';\n",
              "          element.innerHTML = '';\n",
              "          dataTable['output_type'] = 'display_data';\n",
              "          await google.colab.output.renderOutput(dataTable, element);\n",
              "          const docLink = document.createElement('div');\n",
              "          docLink.innerHTML = docLinkHtml;\n",
              "          element.appendChild(docLink);\n",
              "        }\n",
              "      </script>\n",
              "    </div>\n",
              "  </div>\n",
              "  "
            ]
          },
          "metadata": {},
          "execution_count": 4
        }
      ],
      "source": [
        "# 1. Load the data. \n",
        "\n",
        "filepath = '/content/drive/My Drive/Colab Notebooks/homework4_input_data.csv'\n",
        "df = pd.read_csv(filepath)\n",
        "\n",
        "df"
      ]
    },
    {
      "cell_type": "code",
      "source": [
        "colors = {\"Breast\": '#4287f5', \n",
        "          \"Bladder\": '#19c5e3', \n",
        "          \"Colon\": '#80d941', \n",
        "          \"Glioblastoma\": '#179933', \n",
        "          \"Head&Neck\": '#f07e78', \n",
        "          \"Kidney\": '#f01e13', \n",
        "          \"Leukemia\": '#f0841f', \n",
        "          \"LungAdeno\": '#db5209', \n",
        "          \"LungSquamous\": '#ce8ced', \n",
        "          \"Ovarian\": '#551075', \n",
        "          \"Rectal\": '#e3d329', \n",
        "          \"Uterine\": '#cc3423'}\n",
        "\n",
        "df['color'] = df['Class'].map(colors)\n",
        "df.iloc[:, -2:]"
      ],
      "metadata": {
        "id": "k3yhf06e4fjS",
        "colab": {
          "base_uri": "https://localhost:8080/",
          "height": 424
        },
        "outputId": "4960f587-4c93-4aea-d867-00dd6f9e8aab"
      },
      "execution_count": 5,
      "outputs": [
        {
          "output_type": "execute_result",
          "data": {
            "text/plain": [
              "         Class    color\n",
              "0     Leukemia  #f0841f\n",
              "1     Leukemia  #f0841f\n",
              "2     Leukemia  #f0841f\n",
              "3     Leukemia  #f0841f\n",
              "4     Leukemia  #f0841f\n",
              "...        ...      ...\n",
              "4331   Uterine  #cc3423\n",
              "4332   Uterine  #cc3423\n",
              "4333   Uterine  #cc3423\n",
              "4334   Uterine  #cc3423\n",
              "4335   Uterine  #cc3423\n",
              "\n",
              "[4336 rows x 2 columns]"
            ],
            "text/html": [
              "\n",
              "  <div id=\"df-3a19e852-8095-4978-9a72-fec59ea7ac7b\">\n",
              "    <div class=\"colab-df-container\">\n",
              "      <div>\n",
              "<style scoped>\n",
              "    .dataframe tbody tr th:only-of-type {\n",
              "        vertical-align: middle;\n",
              "    }\n",
              "\n",
              "    .dataframe tbody tr th {\n",
              "        vertical-align: top;\n",
              "    }\n",
              "\n",
              "    .dataframe thead th {\n",
              "        text-align: right;\n",
              "    }\n",
              "</style>\n",
              "<table border=\"1\" class=\"dataframe\">\n",
              "  <thead>\n",
              "    <tr style=\"text-align: right;\">\n",
              "      <th></th>\n",
              "      <th>Class</th>\n",
              "      <th>color</th>\n",
              "    </tr>\n",
              "  </thead>\n",
              "  <tbody>\n",
              "    <tr>\n",
              "      <th>0</th>\n",
              "      <td>Leukemia</td>\n",
              "      <td>#f0841f</td>\n",
              "    </tr>\n",
              "    <tr>\n",
              "      <th>1</th>\n",
              "      <td>Leukemia</td>\n",
              "      <td>#f0841f</td>\n",
              "    </tr>\n",
              "    <tr>\n",
              "      <th>2</th>\n",
              "      <td>Leukemia</td>\n",
              "      <td>#f0841f</td>\n",
              "    </tr>\n",
              "    <tr>\n",
              "      <th>3</th>\n",
              "      <td>Leukemia</td>\n",
              "      <td>#f0841f</td>\n",
              "    </tr>\n",
              "    <tr>\n",
              "      <th>4</th>\n",
              "      <td>Leukemia</td>\n",
              "      <td>#f0841f</td>\n",
              "    </tr>\n",
              "    <tr>\n",
              "      <th>...</th>\n",
              "      <td>...</td>\n",
              "      <td>...</td>\n",
              "    </tr>\n",
              "    <tr>\n",
              "      <th>4331</th>\n",
              "      <td>Uterine</td>\n",
              "      <td>#cc3423</td>\n",
              "    </tr>\n",
              "    <tr>\n",
              "      <th>4332</th>\n",
              "      <td>Uterine</td>\n",
              "      <td>#cc3423</td>\n",
              "    </tr>\n",
              "    <tr>\n",
              "      <th>4333</th>\n",
              "      <td>Uterine</td>\n",
              "      <td>#cc3423</td>\n",
              "    </tr>\n",
              "    <tr>\n",
              "      <th>4334</th>\n",
              "      <td>Uterine</td>\n",
              "      <td>#cc3423</td>\n",
              "    </tr>\n",
              "    <tr>\n",
              "      <th>4335</th>\n",
              "      <td>Uterine</td>\n",
              "      <td>#cc3423</td>\n",
              "    </tr>\n",
              "  </tbody>\n",
              "</table>\n",
              "<p>4336 rows × 2 columns</p>\n",
              "</div>\n",
              "      <button class=\"colab-df-convert\" onclick=\"convertToInteractive('df-3a19e852-8095-4978-9a72-fec59ea7ac7b')\"\n",
              "              title=\"Convert this dataframe to an interactive table.\"\n",
              "              style=\"display:none;\">\n",
              "        \n",
              "  <svg xmlns=\"http://www.w3.org/2000/svg\" height=\"24px\"viewBox=\"0 0 24 24\"\n",
              "       width=\"24px\">\n",
              "    <path d=\"M0 0h24v24H0V0z\" fill=\"none\"/>\n",
              "    <path d=\"M18.56 5.44l.94 2.06.94-2.06 2.06-.94-2.06-.94-.94-2.06-.94 2.06-2.06.94zm-11 1L8.5 8.5l.94-2.06 2.06-.94-2.06-.94L8.5 2.5l-.94 2.06-2.06.94zm10 10l.94 2.06.94-2.06 2.06-.94-2.06-.94-.94-2.06-.94 2.06-2.06.94z\"/><path d=\"M17.41 7.96l-1.37-1.37c-.4-.4-.92-.59-1.43-.59-.52 0-1.04.2-1.43.59L10.3 9.45l-7.72 7.72c-.78.78-.78 2.05 0 2.83L4 21.41c.39.39.9.59 1.41.59.51 0 1.02-.2 1.41-.59l7.78-7.78 2.81-2.81c.8-.78.8-2.07 0-2.86zM5.41 20L4 18.59l7.72-7.72 1.47 1.35L5.41 20z\"/>\n",
              "  </svg>\n",
              "      </button>\n",
              "      \n",
              "  <style>\n",
              "    .colab-df-container {\n",
              "      display:flex;\n",
              "      flex-wrap:wrap;\n",
              "      gap: 12px;\n",
              "    }\n",
              "\n",
              "    .colab-df-convert {\n",
              "      background-color: #E8F0FE;\n",
              "      border: none;\n",
              "      border-radius: 50%;\n",
              "      cursor: pointer;\n",
              "      display: none;\n",
              "      fill: #1967D2;\n",
              "      height: 32px;\n",
              "      padding: 0 0 0 0;\n",
              "      width: 32px;\n",
              "    }\n",
              "\n",
              "    .colab-df-convert:hover {\n",
              "      background-color: #E2EBFA;\n",
              "      box-shadow: 0px 1px 2px rgba(60, 64, 67, 0.3), 0px 1px 3px 1px rgba(60, 64, 67, 0.15);\n",
              "      fill: #174EA6;\n",
              "    }\n",
              "\n",
              "    [theme=dark] .colab-df-convert {\n",
              "      background-color: #3B4455;\n",
              "      fill: #D2E3FC;\n",
              "    }\n",
              "\n",
              "    [theme=dark] .colab-df-convert:hover {\n",
              "      background-color: #434B5C;\n",
              "      box-shadow: 0px 1px 3px 1px rgba(0, 0, 0, 0.15);\n",
              "      filter: drop-shadow(0px 1px 2px rgba(0, 0, 0, 0.3));\n",
              "      fill: #FFFFFF;\n",
              "    }\n",
              "  </style>\n",
              "\n",
              "      <script>\n",
              "        const buttonEl =\n",
              "          document.querySelector('#df-3a19e852-8095-4978-9a72-fec59ea7ac7b button.colab-df-convert');\n",
              "        buttonEl.style.display =\n",
              "          google.colab.kernel.accessAllowed ? 'block' : 'none';\n",
              "\n",
              "        async function convertToInteractive(key) {\n",
              "          const element = document.querySelector('#df-3a19e852-8095-4978-9a72-fec59ea7ac7b');\n",
              "          const dataTable =\n",
              "            await google.colab.kernel.invokeFunction('convertToInteractive',\n",
              "                                                     [key], {});\n",
              "          if (!dataTable) return;\n",
              "\n",
              "          const docLinkHtml = 'Like what you see? Visit the ' +\n",
              "            '<a target=\"_blank\" href=https://colab.research.google.com/notebooks/data_table.ipynb>data table notebook</a>'\n",
              "            + ' to learn more about interactive tables.';\n",
              "          element.innerHTML = '';\n",
              "          dataTable['output_type'] = 'display_data';\n",
              "          await google.colab.output.renderOutput(dataTable, element);\n",
              "          const docLink = document.createElement('div');\n",
              "          docLink.innerHTML = docLinkHtml;\n",
              "          element.appendChild(docLink);\n",
              "        }\n",
              "      </script>\n",
              "    </div>\n",
              "  </div>\n",
              "  "
            ]
          },
          "metadata": {},
          "execution_count": 5
        }
      ]
    },
    {
      "cell_type": "code",
      "execution_count": 6,
      "metadata": {
        "id": "77Rqe0igg22Y"
      },
      "outputs": [],
      "source": [
        "X = df.iloc[:, 1:3001]\n",
        "Y = df.iloc[:, 3001]"
      ]
    },
    {
      "cell_type": "code",
      "execution_count": 7,
      "metadata": {
        "id": "cB5clk3Xg22Y",
        "outputId": "39dd34cd-943c-4be0-f216-dcdd25134914",
        "colab": {
          "base_uri": "https://localhost:8080/"
        }
      },
      "outputs": [
        {
          "output_type": "execute_result",
          "data": {
            "text/plain": [
              "array([[82.04598902, 46.7130452 ],\n",
              "       [76.72251477, 37.9190887 ],\n",
              "       [76.64320355, 39.8676599 ],\n",
              "       ...,\n",
              "       [-6.45313027, -2.46852613],\n",
              "       [ 1.54972972,  3.37494376],\n",
              "       [ 9.11558797,  9.49003632]])"
            ]
          },
          "metadata": {},
          "execution_count": 7
        }
      ],
      "source": [
        "Xpc = PCA(2).fit_transform(X)\n",
        "Xpc"
      ]
    },
    {
      "cell_type": "code",
      "execution_count": 8,
      "metadata": {
        "id": "hVBZbsbzg22Y",
        "outputId": "cb8f0cee-09eb-44c9-dc4d-3f604ce87357",
        "colab": {
          "base_uri": "https://localhost:8080/",
          "height": 282
        }
      },
      "outputs": [
        {
          "output_type": "execute_result",
          "data": {
            "text/plain": [
              "<matplotlib.collections.PathCollection at 0x7faad5e05290>"
            ]
          },
          "metadata": {},
          "execution_count": 8
        },
        {
          "output_type": "display_data",
          "data": {
            "text/plain": [
              "<Figure size 432x288 with 1 Axes>"
            ],
            "image/png": "[encoded data removed]"
          },
          "metadata": {
            "needs_background": "light"
          }
        }
      ],
      "source": [
        "# 2. Produce a PCA plot of the input data, using the colors specified above.\n",
        "\n",
        "plt.scatter(Xpc[:, 0], Xpc[:, 1], s=5, c=df['color'])"
      ]
    },
    {
      "cell_type": "code",
      "execution_count": 9,
      "metadata": {
        "id": "rbfSV9wdg22Z"
      },
      "outputs": [],
      "source": [
        "# 3. Normalize the data using StandardScaler.  \n",
        "\n",
        "X = StandardScaler().fit_transform(X)"
      ]
    },
    {
      "cell_type": "code",
      "source": [
        "# 4. Break the data into the training and test datasets at 80/20 proportion\n",
        "\n",
        "X_train, X_test, Y_train, Y_test = train_test_split(X, Y, test_size=0.2, random_state=0, stratify=Y)\n",
        "X_train.shape, Y_train.shape, X_test.shape, Y_test.shape"
      ],
      "metadata": {
        "colab": {
          "base_uri": "https://localhost:8080/"
        },
        "id": "IAW5qVnr3e4Q",
        "outputId": "cadd2a1d-4ac6-4e31-fca3-a613cedbc905"
      },
      "execution_count": 10,
      "outputs": [
        {
          "output_type": "execute_result",
          "data": {
            "text/plain": [
              "((3468, 3000), (3468,), (868, 3000), (868,))"
            ]
          },
          "metadata": {},
          "execution_count": 10
        }
      ]
    },
    {
      "cell_type": "code",
      "source": [
        "# 5. Define SVM model hyperparameters of your choice\n",
        "\n",
        "model = LinearSVC(multi_class='ovr', class_weight='balanced')"
      ],
      "metadata": {
        "id": "xTGHLyXI4Ldy"
      },
      "execution_count": 13,
      "outputs": []
    },
    {
      "cell_type": "code",
      "source": [
        "# 6. Run and report results from 5-fold cross-validation.\n",
        "\n",
        "scores = cross_val_score(model, X_train, Y_train)\n",
        "print('Individual cross-validation accuracies:', scores)\n",
        "print('Mean cross-validation accuracy:', np.mean(scores))"
      ],
      "metadata": {
        "colab": {
          "base_uri": "https://localhost:8080/"
        },
        "id": "4J96b69k4TTN",
        "outputId": "32b7aeed-ac31-4bf4-a7b5-d8e42fc00d29"
      },
      "execution_count": 15,
      "outputs": [
        {
          "output_type": "stream",
          "name": "stdout",
          "text": [
            "Individual cross-validation accuracies: [0.95821326 0.96685879 0.96253602 0.96536797 0.96681097]\n",
            "Mean cross validation accuracy: 0.9639574002686395\n"
          ]
        }
      ]
    },
    {
      "cell_type": "code",
      "source": [
        "# 7. Train the final model on all the training data and assess model performance on the test set. \n",
        "\n",
        "model.fit(X_train, Y_train)\n",
        "\n",
        "model.score(X_test, Y_test)"
      ],
      "metadata": {
        "colab": {
          "base_uri": "https://localhost:8080/"
        },
        "id": "49_iPL9e59zl",
        "outputId": "90d4433d-a0d6-4c22-cfc5-57d1d0a5df05"
      },
      "execution_count": 16,
      "outputs": [
        {
          "output_type": "execute_result",
          "data": {
            "text/plain": [
              "0.9758064516129032"
            ]
          },
          "metadata": {},
          "execution_count": 16
        }
      ]
    },
    {
      "cell_type": "code",
      "source": [
        "# 8. Plot two confusion matrices for test set predictions (one non-normalized and one normalized).\n",
        "\n",
        "from sklearn.metrics import ConfusionMatrixDisplay\n",
        "\n",
        "# non-normalized\n",
        "ConfusionMatrixDisplay.from_estimator(model, X_test, Y_test,\n",
        "                                      cmap=plt.cm.Blues,\n",
        "                                      xticks_rotation='vertical',\n",
        "                                      normalize=None).ax_.set_title('Non-normalized confusion matrix')\n",
        "\n",
        "# normalized\n",
        "ConfusionMatrixDisplay.from_estimator(model, X_test, Y_test,\n",
        "                                      cmap=plt.cm.Blues,\n",
        "                                      xticks_rotation='vertical',\n",
        "                                      normalize='true').ax_.set_title('Normalized confusion matrix')"
      ],
      "metadata": {
        "colab": {
          "base_uri": "https://localhost:8080/",
          "height": 724
        },
        "id": "G_0Gpjsx5-gN",
        "outputId": "2f2410f3-bcba-4744-c600-5bce690018b4"
      },
      "execution_count": 30,
      "outputs": [
        {
          "output_type": "execute_result",
          "data": {
            "text/plain": [
              "Text(0.5, 1.0, 'Normalized confusion matrix')"
            ]
          },
          "metadata": {},
          "execution_count": 30
        },
        {
          "output_type": "display_data",
          "data": {
            "text/plain": [
              "<Figure size 432x288 with 2 Axes>"
            ],
            "image/png": "[encoded data removed]"
          },
          "metadata": {
            "needs_background": "light"
          }
        },
        {
          "output_type": "display_data",
          "data": {
            "text/plain": [
              "<Figure size 432x288 with 2 Axes>"
            ],
            "image/png": "[encoded data removed]"
          },
          "metadata": {
            "needs_background": "light"
          }
        }
      ]
    }
  ],
  "metadata": {
    "kernelspec": {
      "display_name": "Python 3",
      "language": "python",
      "name": "python3"
    },
    "language_info": {
      "codemirror_mode": {
        "name": "ipython",
        "version": 3
      },
      "file_extension": ".py",
      "mimetype": "text/x-python",
      "name": "python",
      "nbconvert_exporter": "python",
      "pygments_lexer": "ipython3",
      "version": "3.8.3"
    },
    "colab": {
      "name": "Assignment4.ipynb",
      "provenance": [],
      "collapsed_sections": []
    }
  },
  "nbformat": 4,
  "nbformat_minor": 0
}