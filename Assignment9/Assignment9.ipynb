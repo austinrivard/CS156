{
  "cells": [
    {
      "cell_type": "markdown",
      "metadata": {
        "id": "XwCxtbTObnNs"
      },
      "source": [
        "# <b>CS156 (Introduction to AI), Spring 2022</b>\n",
        "# <u><b>Homework 9 submission</b></u>"
      ]
    },
    {
      "cell_type": "markdown",
      "metadata": {
        "id": "B5bZzSdKbnNv"
      },
      "source": [
        "### Roster Name: Austin Rivard\n",
        "### Student ID: 015044445\n",
        "### Email address: austin.rivard@sjsu.edu"
      ]
    },
    {
      "cell_type": "markdown",
      "metadata": {
        "id": "n-IQyBV_bnNw"
      },
      "source": [
        "##  <u>References and sources </u>"
      ]
    },
    {
      "cell_type": "markdown",
      "metadata": {
        "id": "9R78zD5RbnNx"
      },
      "source": [
        "https://machinelearningmastery.com/how-to-reduce-generalization-error-in-deep-neural-networks-with-activity-regularization-in-keras/\n",
        "\n",
        "Code excerpts taken from class reference notebook Autoencoders.MNIST.ipynb by Dr. Yulia Newton"
      ]
    },
    {
      "cell_type": "markdown",
      "metadata": {
        "id": "3kIOOTiCbnNx"
      },
      "source": [
        "##  <u>Solution</u>"
      ]
    },
    {
      "cell_type": "markdown",
      "metadata": {
        "id": "j1C7w-osbnNy"
      },
      "source": [
        "#### Load libraries and set random number generator seed"
      ]
    },
    {
      "cell_type": "code",
      "execution_count": 1,
      "metadata": {
        "id": "ng0O9M_lbnNy"
      },
      "outputs": [],
      "source": [
        "import tensorflow as tf\n",
        "from tensorflow import keras\n",
        "from tensorflow.keras import layers\n",
        "from tensorflow.keras import regularizers\n",
        "import matplotlib.pyplot as plt\n",
        "from sklearn.model_selection import train_test_split\n",
        "import pydot\n",
        "from skimage import io\n",
        "import numpy as np"
      ]
    },
    {
      "cell_type": "code",
      "execution_count": 2,
      "metadata": {
        "id": "ru9cqRUbbnN0"
      },
      "outputs": [],
      "source": [
        "np.random.seed(42)"
      ]
    },
    {
      "cell_type": "code",
      "execution_count": 3,
      "metadata": {
        "id": "jGTIaWtnrgOC",
        "outputId": "52ab1245-fab1-450c-cd4d-09903070e8f4",
        "colab": {
          "base_uri": "https://localhost:8080/"
        }
      },
      "outputs": [
        {
          "output_type": "execute_result",
          "data": {
            "text/plain": [
              "['/device:GPU:0']"
            ]
          },
          "metadata": {},
          "execution_count": 3
        }
      ],
      "source": [
        "from tensorflow.python.keras import backend as K\n",
        "K._get_available_gpus()"
      ]
    },
    {
      "cell_type": "markdown",
      "metadata": {
        "id": "cCenVHubbnN1"
      },
      "source": [
        "#### Code the solution"
      ]
    },
    {
      "cell_type": "code",
      "source": [
        "(x_train_valid, y_train_valid), (x_test, y_test) = keras.datasets.fashion_mnist.load_data()\n",
        "x_train, x_validation, y_train, y_validation = train_test_split(x_train_valid, y_train_valid, test_size=0.2, random_state=0)\n",
        "x_train.shape, x_validation.shape, x_test.shape"
      ],
      "metadata": {
        "colab": {
          "base_uri": "https://localhost:8080/"
        },
        "id": "9TVOlufhiAqQ",
        "outputId": "81fbf0c1-d29f-4406-8a8d-ca61c4f836ae"
      },
      "execution_count": 4,
      "outputs": [
        {
          "output_type": "stream",
          "name": "stdout",
          "text": [
            "Downloading data from https://storage.googleapis.com/tensorflow/tf-keras-datasets/train-labels-idx1-ubyte.gz\n",
            "32768/29515 [=================================] - 0s 0us/step\n",
            "40960/29515 [=========================================] - 0s 0us/step\n",
            "Downloading data from https://storage.googleapis.com/tensorflow/tf-keras-datasets/train-images-idx3-ubyte.gz\n",
            "26427392/26421880 [==============================] - 1s 0us/step\n",
            "26435584/26421880 [==============================] - 1s 0us/step\n",
            "Downloading data from https://storage.googleapis.com/tensorflow/tf-keras-datasets/t10k-labels-idx1-ubyte.gz\n",
            "16384/5148 [===============================================================================================] - 0s 0us/step\n",
            "Downloading data from https://storage.googleapis.com/tensorflow/tf-keras-datasets/t10k-images-idx3-ubyte.gz\n",
            "4423680/4422102 [==============================] - 0s 0us/step\n",
            "4431872/4422102 [==============================] - 0s 0us/step\n"
          ]
        },
        {
          "output_type": "execute_result",
          "data": {
            "text/plain": [
              "((48000, 28, 28), (12000, 28, 28), (10000, 28, 28))"
            ]
          },
          "metadata": {},
          "execution_count": 4
        }
      ]
    },
    {
      "cell_type": "code",
      "source": [
        "# Scale images to the [0, 1] range\n",
        "x_train = x_train.astype(\"float32\") / 255\n",
        "x_validation = x_validation.astype(\"float32\") / 255\n",
        "x_test = x_test.astype(\"float32\") / 255\n",
        "\n",
        "x_train.shape, x_validation.shape, x_test.shape"
      ],
      "metadata": {
        "colab": {
          "base_uri": "https://localhost:8080/"
        },
        "id": "CiOHoqAvlno_",
        "outputId": "208cda2c-e351-4423-cf6a-4e8092c8138b"
      },
      "execution_count": 5,
      "outputs": [
        {
          "output_type": "execute_result",
          "data": {
            "text/plain": [
              "((48000, 28, 28), (12000, 28, 28), (10000, 28, 28))"
            ]
          },
          "metadata": {},
          "execution_count": 5
        }
      ]
    },
    {
      "cell_type": "code",
      "source": [
        "# Reshape the images into flat ANN layers\n",
        "x_train = x_train.reshape(-1, 784)\n",
        "x_validation = x_validation.reshape(-1, 784)\n",
        "x_test = x_test.reshape(-1, 784)\n",
        "\n",
        "x_train.shape, x_validation.shape, x_test.shape"
      ],
      "metadata": {
        "colab": {
          "base_uri": "https://localhost:8080/"
        },
        "id": "U_X_WnX3pm08",
        "outputId": "68850850-32c9-43e2-ecba-bbac1fd5711b"
      },
      "execution_count": 6,
      "outputs": [
        {
          "output_type": "execute_result",
          "data": {
            "text/plain": [
              "((48000, 784), (12000, 784), (10000, 784))"
            ]
          },
          "metadata": {},
          "execution_count": 6
        }
      ]
    },
    {
      "cell_type": "code",
      "source": [
        "input_layer = layers.Input(784)\n",
        "e1 = layers.Dense(128, activation='relu', activity_regularizer=regularizers.l1(1e-4))(input_layer)\n",
        "e2 = layers.Dense(64, activation='relu', activity_regularizer=regularizers.l1(1e-4))(e1)\n",
        "encoded_input = layers.Dense(32, activation='relu', activity_regularizer=regularizers.l1(1e-4))(e2)\n",
        "\n",
        "encoder = keras.Model(input_layer, encoded_input)\n",
        "encoder.summary()"
      ],
      "metadata": {
        "colab": {
          "base_uri": "https://localhost:8080/"
        },
        "id": "gsk1VhuslPjS",
        "outputId": "e2fee770-c5ce-434c-951b-1a46b6984998"
      },
      "execution_count": 8,
      "outputs": [
        {
          "output_type": "stream",
          "name": "stdout",
          "text": [
            "Model: \"model\"\n",
            "_________________________________________________________________\n",
            " Layer (type)                Output Shape              Param #   \n",
            "=================================================================\n",
            " input_1 (InputLayer)        [(None, 784)]             0         \n",
            "                                                                 \n",
            " dense (Dense)               (None, 128)               100480    \n",
            "                                                                 \n",
            " dense_1 (Dense)             (None, 64)                8256      \n",
            "                                                                 \n",
            " dense_2 (Dense)             (None, 32)                2080      \n",
            "                                                                 \n",
            "=================================================================\n",
            "Total params: 110,816\n",
            "Trainable params: 110,816\n",
            "Non-trainable params: 0\n",
            "_________________________________________________________________\n"
          ]
        }
      ]
    },
    {
      "cell_type": "code",
      "source": [
        "d1 = layers.Dense(64, activation='relu', activity_regularizer=regularizers.l1(1e-4))(encoded_input)\n",
        "d2 = layers.Dense(128, activation='relu', activity_regularizer=regularizers.l1(1e-4))(d1)\n",
        "decoder_layer = layers.Dense(784, activation='sigmoid')(d2)\n",
        "\n",
        "decoder = keras.Model(encoded_input, decoder_layer)\n",
        "decoder.summary()"
      ],
      "metadata": {
        "colab": {
          "base_uri": "https://localhost:8080/"
        },
        "id": "pAe3FUk4liWz",
        "outputId": "ecb2a026-02de-4027-bcb5-e3638066bc52"
      },
      "execution_count": 9,
      "outputs": [
        {
          "output_type": "stream",
          "name": "stdout",
          "text": [
            "Model: \"model_1\"\n",
            "_________________________________________________________________\n",
            " Layer (type)                Output Shape              Param #   \n",
            "=================================================================\n",
            " input_2 (InputLayer)        [(None, 32)]              0         \n",
            "                                                                 \n",
            " dense_3 (Dense)             (None, 64)                2112      \n",
            "                                                                 \n",
            " dense_4 (Dense)             (None, 128)               8320      \n",
            "                                                                 \n",
            " dense_5 (Dense)             (None, 784)               101136    \n",
            "                                                                 \n",
            "=================================================================\n",
            "Total params: 111,568\n",
            "Trainable params: 111,568\n",
            "Non-trainable params: 0\n",
            "_________________________________________________________________\n"
          ]
        }
      ]
    },
    {
      "cell_type": "code",
      "source": [
        "autoencoder = keras.Model(input_layer, decoder_layer)\n",
        "autoencoder.summary()"
      ],
      "metadata": {
        "colab": {
          "base_uri": "https://localhost:8080/"
        },
        "id": "2lcDi5suqpIM",
        "outputId": "7be80887-51d1-42ea-85f5-41d862f0b24a"
      },
      "execution_count": 10,
      "outputs": [
        {
          "output_type": "stream",
          "name": "stdout",
          "text": [
            "Model: \"model_2\"\n",
            "_________________________________________________________________\n",
            " Layer (type)                Output Shape              Param #   \n",
            "=================================================================\n",
            " input_1 (InputLayer)        [(None, 784)]             0         \n",
            "                                                                 \n",
            " dense (Dense)               (None, 128)               100480    \n",
            "                                                                 \n",
            " dense_1 (Dense)             (None, 64)                8256      \n",
            "                                                                 \n",
            " dense_2 (Dense)             (None, 32)                2080      \n",
            "                                                                 \n",
            " dense_3 (Dense)             (None, 64)                2112      \n",
            "                                                                 \n",
            " dense_4 (Dense)             (None, 128)               8320      \n",
            "                                                                 \n",
            " dense_5 (Dense)             (None, 784)               101136    \n",
            "                                                                 \n",
            "=================================================================\n",
            "Total params: 222,384\n",
            "Trainable params: 222,384\n",
            "Non-trainable params: 0\n",
            "_________________________________________________________________\n"
          ]
        }
      ]
    },
    {
      "cell_type": "code",
      "source": [
        "autoencoder.compile(optimizer='adam', loss='binary_crossentropy')\n",
        "\n",
        "autoencoder.fit(x_train, x_train,\n",
        "                epochs=100,\n",
        "                batch_size=256,\n",
        "                shuffle=True,\n",
        "                validation_data=(x_validation, x_validation))"
      ],
      "metadata": {
        "id": "NJK1UVlTupeI",
        "colab": {
          "base_uri": "https://localhost:8080/"
        },
        "outputId": "7b92d85c-f3c1-4143-8351-44c1d47548bd"
      },
      "execution_count": 11,
      "outputs": [
        {
          "output_type": "stream",
          "name": "stdout",
          "text": [
            "Epoch 1/100\n",
            "188/188 [==============================] - 9s 16ms/step - loss: 0.4420 - val_loss: 0.3569\n",
            "Epoch 2/100\n",
            "188/188 [==============================] - 2s 9ms/step - loss: 0.3393 - val_loss: 0.3291\n",
            "Epoch 3/100\n",
            "188/188 [==============================] - 1s 7ms/step - loss: 0.3248 - val_loss: 0.3212\n",
            "Epoch 4/100\n",
            "188/188 [==============================] - 1s 7ms/step - loss: 0.3183 - val_loss: 0.3159\n",
            "Epoch 5/100\n",
            "188/188 [==============================] - 2s 8ms/step - loss: 0.3136 - val_loss: 0.3118\n",
            "Epoch 6/100\n",
            "188/188 [==============================] - 2s 8ms/step - loss: 0.3100 - val_loss: 0.3086\n",
            "Epoch 7/100\n",
            "188/188 [==============================] - 1s 8ms/step - loss: 0.3072 - val_loss: 0.3062\n",
            "Epoch 8/100\n",
            "188/188 [==============================] - 2s 9ms/step - loss: 0.3051 - val_loss: 0.3044\n",
            "Epoch 9/100\n",
            "188/188 [==============================] - 1s 7ms/step - loss: 0.3035 - val_loss: 0.3031\n",
            "Epoch 10/100\n",
            "188/188 [==============================] - 2s 8ms/step - loss: 0.3021 - val_loss: 0.3017\n",
            "Epoch 11/100\n",
            "188/188 [==============================] - 1s 7ms/step - loss: 0.3009 - val_loss: 0.3009\n",
            "Epoch 12/100\n",
            "188/188 [==============================] - 1s 7ms/step - loss: 0.2999 - val_loss: 0.2999\n",
            "Epoch 13/100\n",
            "188/188 [==============================] - 1s 7ms/step - loss: 0.2989 - val_loss: 0.2987\n",
            "Epoch 14/100\n",
            "188/188 [==============================] - 1s 7ms/step - loss: 0.2979 - val_loss: 0.2980\n",
            "Epoch 15/100\n",
            "188/188 [==============================] - 1s 7ms/step - loss: 0.2971 - val_loss: 0.2969\n",
            "Epoch 16/100\n",
            "188/188 [==============================] - 2s 8ms/step - loss: 0.2962 - val_loss: 0.2961\n",
            "Epoch 17/100\n",
            "188/188 [==============================] - 2s 8ms/step - loss: 0.2955 - val_loss: 0.2954\n",
            "Epoch 18/100\n",
            "188/188 [==============================] - 1s 7ms/step - loss: 0.2948 - val_loss: 0.2948\n",
            "Epoch 19/100\n",
            "188/188 [==============================] - 1s 7ms/step - loss: 0.2942 - val_loss: 0.2941\n",
            "Epoch 20/100\n",
            "188/188 [==============================] - 1s 7ms/step - loss: 0.2934 - val_loss: 0.2936\n",
            "Epoch 21/100\n",
            "188/188 [==============================] - 2s 8ms/step - loss: 0.2929 - val_loss: 0.2930\n",
            "Epoch 22/100\n",
            "188/188 [==============================] - 2s 8ms/step - loss: 0.2924 - val_loss: 0.2925\n",
            "Epoch 23/100\n",
            "188/188 [==============================] - 2s 8ms/step - loss: 0.2918 - val_loss: 0.2918\n",
            "Epoch 24/100\n",
            "188/188 [==============================] - 2s 8ms/step - loss: 0.2913 - val_loss: 0.2915\n",
            "Epoch 25/100\n",
            "188/188 [==============================] - 1s 7ms/step - loss: 0.2908 - val_loss: 0.2909\n",
            "Epoch 26/100\n",
            "188/188 [==============================] - 2s 8ms/step - loss: 0.2904 - val_loss: 0.2908\n",
            "Epoch 27/100\n",
            "188/188 [==============================] - 1s 7ms/step - loss: 0.2900 - val_loss: 0.2901\n",
            "Epoch 28/100\n",
            "188/188 [==============================] - 1s 7ms/step - loss: 0.2895 - val_loss: 0.2900\n",
            "Epoch 29/100\n",
            "188/188 [==============================] - 2s 8ms/step - loss: 0.2892 - val_loss: 0.2896\n",
            "Epoch 30/100\n",
            "188/188 [==============================] - 1s 7ms/step - loss: 0.2888 - val_loss: 0.2893\n",
            "Epoch 31/100\n",
            "188/188 [==============================] - 1s 7ms/step - loss: 0.2886 - val_loss: 0.2888\n",
            "Epoch 32/100\n",
            "188/188 [==============================] - 2s 8ms/step - loss: 0.2882 - val_loss: 0.2886\n",
            "Epoch 33/100\n",
            "188/188 [==============================] - 1s 7ms/step - loss: 0.2879 - val_loss: 0.2884\n",
            "Epoch 34/100\n",
            "188/188 [==============================] - 1s 7ms/step - loss: 0.2876 - val_loss: 0.2880\n",
            "Epoch 35/100\n",
            "188/188 [==============================] - 1s 7ms/step - loss: 0.2873 - val_loss: 0.2879\n",
            "Epoch 36/100\n",
            "188/188 [==============================] - 1s 7ms/step - loss: 0.2871 - val_loss: 0.2875\n",
            "Epoch 37/100\n",
            "188/188 [==============================] - 1s 7ms/step - loss: 0.2868 - val_loss: 0.2872\n",
            "Epoch 38/100\n",
            "188/188 [==============================] - 2s 8ms/step - loss: 0.2865 - val_loss: 0.2872\n",
            "Epoch 39/100\n",
            "188/188 [==============================] - 1s 7ms/step - loss: 0.2863 - val_loss: 0.2866\n",
            "Epoch 40/100\n",
            "188/188 [==============================] - 1s 7ms/step - loss: 0.2861 - val_loss: 0.2864\n",
            "Epoch 41/100\n",
            "188/188 [==============================] - 1s 7ms/step - loss: 0.2858 - val_loss: 0.2863\n",
            "Epoch 42/100\n",
            "188/188 [==============================] - 2s 8ms/step - loss: 0.2856 - val_loss: 0.2861\n",
            "Epoch 43/100\n",
            "188/188 [==============================] - 2s 8ms/step - loss: 0.2854 - val_loss: 0.2861\n",
            "Epoch 44/100\n",
            "188/188 [==============================] - 2s 8ms/step - loss: 0.2852 - val_loss: 0.2858\n",
            "Epoch 45/100\n",
            "188/188 [==============================] - 1s 7ms/step - loss: 0.2850 - val_loss: 0.2857\n",
            "Epoch 46/100\n",
            "188/188 [==============================] - 1s 7ms/step - loss: 0.2849 - val_loss: 0.2853\n",
            "Epoch 47/100\n",
            "188/188 [==============================] - 1s 8ms/step - loss: 0.2847 - val_loss: 0.2852\n",
            "Epoch 48/100\n",
            "188/188 [==============================] - 1s 7ms/step - loss: 0.2846 - val_loss: 0.2851\n",
            "Epoch 49/100\n",
            "188/188 [==============================] - 2s 8ms/step - loss: 0.2845 - val_loss: 0.2852\n",
            "Epoch 50/100\n",
            "188/188 [==============================] - 2s 8ms/step - loss: 0.2843 - val_loss: 0.2847\n",
            "Epoch 51/100\n",
            "188/188 [==============================] - 2s 8ms/step - loss: 0.2841 - val_loss: 0.2847\n",
            "Epoch 52/100\n",
            "188/188 [==============================] - 1s 8ms/step - loss: 0.2839 - val_loss: 0.2844\n",
            "Epoch 53/100\n",
            "188/188 [==============================] - 1s 8ms/step - loss: 0.2837 - val_loss: 0.2845\n",
            "Epoch 54/100\n",
            "188/188 [==============================] - 2s 10ms/step - loss: 0.2837 - val_loss: 0.2844\n",
            "Epoch 55/100\n",
            "188/188 [==============================] - 2s 12ms/step - loss: 0.2836 - val_loss: 0.2844\n",
            "Epoch 56/100\n",
            "188/188 [==============================] - 2s 12ms/step - loss: 0.2834 - val_loss: 0.2840\n",
            "Epoch 57/100\n",
            "188/188 [==============================] - 2s 12ms/step - loss: 0.2833 - val_loss: 0.2838\n",
            "Epoch 58/100\n",
            "188/188 [==============================] - 2s 12ms/step - loss: 0.2832 - val_loss: 0.2843\n",
            "Epoch 59/100\n",
            "188/188 [==============================] - 2s 12ms/step - loss: 0.2830 - val_loss: 0.2840\n",
            "Epoch 60/100\n",
            "188/188 [==============================] - 2s 8ms/step - loss: 0.2830 - val_loss: 0.2838\n",
            "Epoch 61/100\n",
            "188/188 [==============================] - 2s 8ms/step - loss: 0.2828 - val_loss: 0.2839\n",
            "Epoch 62/100\n",
            "188/188 [==============================] - 2s 8ms/step - loss: 0.2827 - val_loss: 0.2834\n",
            "Epoch 63/100\n",
            "188/188 [==============================] - 1s 7ms/step - loss: 0.2826 - val_loss: 0.2836\n",
            "Epoch 64/100\n",
            "188/188 [==============================] - 2s 9ms/step - loss: 0.2825 - val_loss: 0.2830\n",
            "Epoch 65/100\n",
            "188/188 [==============================] - 2s 12ms/step - loss: 0.2824 - val_loss: 0.2828\n",
            "Epoch 66/100\n",
            "188/188 [==============================] - 2s 12ms/step - loss: 0.2822 - val_loss: 0.2829\n",
            "Epoch 67/100\n",
            "188/188 [==============================] - 2s 11ms/step - loss: 0.2822 - val_loss: 0.2826\n",
            "Epoch 68/100\n",
            "188/188 [==============================] - 2s 13ms/step - loss: 0.2821 - val_loss: 0.2827\n",
            "Epoch 69/100\n",
            "188/188 [==============================] - 2s 12ms/step - loss: 0.2821 - val_loss: 0.2826\n",
            "Epoch 70/100\n",
            "188/188 [==============================] - 2s 11ms/step - loss: 0.2819 - val_loss: 0.2828\n",
            "Epoch 71/100\n",
            "188/188 [==============================] - 2s 13ms/step - loss: 0.2818 - val_loss: 0.2825\n",
            "Epoch 72/100\n",
            "188/188 [==============================] - 2s 9ms/step - loss: 0.2818 - val_loss: 0.2829\n",
            "Epoch 73/100\n",
            "188/188 [==============================] - 1s 7ms/step - loss: 0.2817 - val_loss: 0.2825\n",
            "Epoch 74/100\n",
            "188/188 [==============================] - 2s 8ms/step - loss: 0.2815 - val_loss: 0.2821\n",
            "Epoch 75/100\n",
            "188/188 [==============================] - 1s 7ms/step - loss: 0.2814 - val_loss: 0.2823\n",
            "Epoch 76/100\n",
            "188/188 [==============================] - 2s 8ms/step - loss: 0.2814 - val_loss: 0.2822\n",
            "Epoch 77/100\n",
            "188/188 [==============================] - 2s 8ms/step - loss: 0.2813 - val_loss: 0.2824\n",
            "Epoch 78/100\n",
            "188/188 [==============================] - 2s 8ms/step - loss: 0.2813 - val_loss: 0.2819\n",
            "Epoch 79/100\n",
            "188/188 [==============================] - 1s 8ms/step - loss: 0.2812 - val_loss: 0.2819\n",
            "Epoch 80/100\n",
            "188/188 [==============================] - 1s 8ms/step - loss: 0.2811 - val_loss: 0.2821\n",
            "Epoch 81/100\n",
            "188/188 [==============================] - 1s 7ms/step - loss: 0.2811 - val_loss: 0.2817\n",
            "Epoch 82/100\n",
            "188/188 [==============================] - 1s 8ms/step - loss: 0.2809 - val_loss: 0.2817\n",
            "Epoch 83/100\n",
            "188/188 [==============================] - 1s 7ms/step - loss: 0.2809 - val_loss: 0.2815\n",
            "Epoch 84/100\n",
            "188/188 [==============================] - 1s 8ms/step - loss: 0.2808 - val_loss: 0.2814\n",
            "Epoch 85/100\n",
            "188/188 [==============================] - 2s 8ms/step - loss: 0.2807 - val_loss: 0.2817\n",
            "Epoch 86/100\n",
            "188/188 [==============================] - 2s 8ms/step - loss: 0.2808 - val_loss: 0.2816\n",
            "Epoch 87/100\n",
            "188/188 [==============================] - 1s 8ms/step - loss: 0.2807 - val_loss: 0.2818\n",
            "Epoch 88/100\n",
            "188/188 [==============================] - 1s 7ms/step - loss: 0.2806 - val_loss: 0.2813\n",
            "Epoch 89/100\n",
            "188/188 [==============================] - 1s 7ms/step - loss: 0.2805 - val_loss: 0.2813\n",
            "Epoch 90/100\n",
            "188/188 [==============================] - 2s 8ms/step - loss: 0.2805 - val_loss: 0.2812\n",
            "Epoch 91/100\n",
            "188/188 [==============================] - 2s 8ms/step - loss: 0.2804 - val_loss: 0.2812\n",
            "Epoch 92/100\n",
            "188/188 [==============================] - 2s 8ms/step - loss: 0.2803 - val_loss: 0.2814\n",
            "Epoch 93/100\n",
            "188/188 [==============================] - 2s 8ms/step - loss: 0.2804 - val_loss: 0.2811\n",
            "Epoch 94/100\n",
            "188/188 [==============================] - 2s 8ms/step - loss: 0.2801 - val_loss: 0.2809\n",
            "Epoch 95/100\n",
            "188/188 [==============================] - 1s 8ms/step - loss: 0.2801 - val_loss: 0.2808\n",
            "Epoch 96/100\n",
            "188/188 [==============================] - 1s 8ms/step - loss: 0.2801 - val_loss: 0.2810\n",
            "Epoch 97/100\n",
            "188/188 [==============================] - 2s 8ms/step - loss: 0.2800 - val_loss: 0.2811\n",
            "Epoch 98/100\n",
            "188/188 [==============================] - 1s 8ms/step - loss: 0.2801 - val_loss: 0.2810\n",
            "Epoch 99/100\n",
            "188/188 [==============================] - 1s 7ms/step - loss: 0.2799 - val_loss: 0.2806\n",
            "Epoch 100/100\n",
            "188/188 [==============================] - 2s 8ms/step - loss: 0.2799 - val_loss: 0.2805\n"
          ]
        },
        {
          "output_type": "execute_result",
          "data": {
            "text/plain": [
              "<keras.callbacks.History at 0x7f705263b990>"
            ]
          },
          "metadata": {},
          "execution_count": 11
        }
      ]
    },
    {
      "cell_type": "code",
      "source": [
        "encoded_imgs = encoder.predict(x_test)\n",
        "decoded_imgs = decoder.predict(encoded_imgs)"
      ],
      "metadata": {
        "id": "MKsX-5bYQQVN"
      },
      "execution_count": 12,
      "outputs": []
    },
    {
      "cell_type": "code",
      "source": [
        "predictions = autoencoder.predict(x_test)\n",
        "\n",
        "n = 10\n",
        "plt.figure(figsize=(20, 4))\n",
        "for i in range(n):\n",
        "    # original\n",
        "    ax = plt.subplot(2, n, i + 1)\n",
        "    plt.imshow(x_test[i].reshape(28, 28))\n",
        "    plt.gray()\n",
        "    ax.get_xaxis().set_visible(False)\n",
        "    ax.get_yaxis().set_visible(False)\n",
        "\n",
        "    # reconstruction\n",
        "    ax = plt.subplot(2, n, i + 1 + n)\n",
        "    plt.imshow(predictions[i].reshape(28, 28))\n",
        "    plt.gray()\n",
        "    ax.get_xaxis().set_visible(False)\n",
        "    ax.get_yaxis().set_visible(False)\n",
        "plt.show()"
      ],
      "metadata": {
        "colab": {
          "base_uri": "https://localhost:8080/",
          "height": 248
        },
        "id": "VpUvvjTQWHfb",
        "outputId": "59514c53-3fd7-46e5-c000-eca9a7a35e47"
      },
      "execution_count": 13,
      "outputs": [
        {
          "output_type": "display_data",
          "data": {
            "text/plain": [
              "<Figure size 1440x288 with 20 Axes>"
            ],
            "image/png": "[encoded data removed]"
          },
          "metadata": {
            "needs_background": "light"
          }
        }
      ]
    },
    {
      "cell_type": "markdown",
      "source": [
        "#2. Convolution"
      ],
      "metadata": {
        "id": "-J5l5ZkG5VGt"
      }
    },
    {
      "cell_type": "code",
      "source": [
        "# shape back into image matrices\n",
        "x_train = x_train.reshape(-1, 28, 28, 1)\n",
        "x_validation = x_validation.reshape(-1, 28, 28, 1)\n",
        "x_test = x_test.reshape(-1, 28, 28, 1)\n",
        "\n",
        "x_train.shape, x_validation.shape, x_test.shape"
      ],
      "metadata": {
        "colab": {
          "base_uri": "https://localhost:8080/"
        },
        "id": "mruTcHQXcYUd",
        "outputId": "b46ffc3d-e6b8-4947-cb3a-cb606091cea2"
      },
      "execution_count": 14,
      "outputs": [
        {
          "output_type": "execute_result",
          "data": {
            "text/plain": [
              "((48000, 28, 28, 1), (12000, 28, 28, 1), (10000, 28, 28, 1))"
            ]
          },
          "metadata": {},
          "execution_count": 14
        }
      ]
    },
    {
      "cell_type": "code",
      "source": [
        "# add noise to images\n",
        "noise_factor = 0.4\n",
        "x_train_noisy = x_train + noise_factor * np.random.normal(loc=0.0, scale=1.0, size=x_train.shape) \n",
        "x_validation_noisy = x_validation + noise_factor * np.random.normal(loc=0.0, scale=1.0, size=x_validation.shape) \n",
        "x_test_noisy = x_test + noise_factor * np.random.normal(loc=0.0, scale=1.0, size=x_test.shape) \n",
        "\n",
        "x_train_noisy = np.clip(x_train_noisy, 0., 1.)\n",
        "x_validation_noisy = np.clip(x_validation_noisy, 0., 1.)\n",
        "x_test_noisy = np.clip(x_test_noisy, 0., 1.)"
      ],
      "metadata": {
        "id": "TuaOJxjv69z8"
      },
      "execution_count": 18,
      "outputs": []
    },
    {
      "cell_type": "code",
      "source": [
        "input_layer = layers.Input(shape=(28, 28, 1))\n",
        "\n",
        "x = layers.Conv2D(32, (3, 3), activation='relu', padding='same')(input_layer)\n",
        "x = layers.MaxPooling2D((2, 2), padding='same')(x)\n",
        "x = layers.Conv2D(32, (3, 3), activation='relu', padding='same')(x)\n",
        "encoded = layers.MaxPooling2D((2, 2), padding='same')(x)\n",
        "\n",
        "x = layers.Conv2D(32, (3, 3), activation='relu', padding='same')(encoded)\n",
        "x = layers.UpSampling2D((2, 2))(x)\n",
        "x = layers.Conv2D(32, (3, 3), activation='relu', padding='same')(x)\n",
        "x = layers.UpSampling2D((2, 2))(x)\n",
        "decoded = layers.Conv2D(1, (3, 3), activation='sigmoid', padding='same')(x)\n",
        "\n",
        "autoencoder = keras.Model(input_layer, decoded)\n",
        "autoencoder.compile(optimizer='adam', loss='binary_crossentropy')\n",
        "autoencoder.summary()"
      ],
      "metadata": {
        "colab": {
          "base_uri": "https://localhost:8080/"
        },
        "id": "tTv2ZXSC4yis",
        "outputId": "3fc3c8d7-f171-41ea-c6cf-b515ab06e223"
      },
      "execution_count": 19,
      "outputs": [
        {
          "output_type": "stream",
          "name": "stdout",
          "text": [
            "Model: \"model_6\"\n",
            "_________________________________________________________________\n",
            " Layer (type)                Output Shape              Param #   \n",
            "=================================================================\n",
            " input_6 (InputLayer)        [(None, 28, 28, 1)]       0         \n",
            "                                                                 \n",
            " conv2d_17 (Conv2D)          (None, 28, 28, 32)        320       \n",
            "                                                                 \n",
            " max_pooling2d_7 (MaxPooling  (None, 14, 14, 32)       0         \n",
            " 2D)                                                             \n",
            "                                                                 \n",
            " conv2d_18 (Conv2D)          (None, 14, 14, 32)        9248      \n",
            "                                                                 \n",
            " max_pooling2d_8 (MaxPooling  (None, 7, 7, 32)         0         \n",
            " 2D)                                                             \n",
            "                                                                 \n",
            " conv2d_19 (Conv2D)          (None, 7, 7, 32)          9248      \n",
            "                                                                 \n",
            " up_sampling2d_7 (UpSampling  (None, 14, 14, 32)       0         \n",
            " 2D)                                                             \n",
            "                                                                 \n",
            " conv2d_20 (Conv2D)          (None, 14, 14, 32)        9248      \n",
            "                                                                 \n",
            " up_sampling2d_8 (UpSampling  (None, 28, 28, 32)       0         \n",
            " 2D)                                                             \n",
            "                                                                 \n",
            " conv2d_21 (Conv2D)          (None, 28, 28, 1)         289       \n",
            "                                                                 \n",
            "=================================================================\n",
            "Total params: 28,353\n",
            "Trainable params: 28,353\n",
            "Non-trainable params: 0\n",
            "_________________________________________________________________\n"
          ]
        }
      ]
    },
    {
      "cell_type": "code",
      "source": [
        "autoencoder.fit(x_train_noisy, x_train,\n",
        "                epochs=50,\n",
        "                batch_size=256,\n",
        "                shuffle=True,\n",
        "                validation_data=(x_validation_noisy, x_validation))"
      ],
      "metadata": {
        "colab": {
          "base_uri": "https://localhost:8080/"
        },
        "id": "hqMi52nh56bY",
        "outputId": "861a1fd5-fd4f-4cb9-effb-90c846c90474"
      },
      "execution_count": 20,
      "outputs": [
        {
          "output_type": "stream",
          "name": "stdout",
          "text": [
            "Epoch 1/50\n",
            "188/188 [==============================] - 13s 26ms/step - loss: 0.3440 - val_loss: 0.3087\n",
            "Epoch 2/50\n",
            "188/188 [==============================] - 4s 23ms/step - loss: 0.3045 - val_loss: 0.3012\n",
            "Epoch 3/50\n",
            "188/188 [==============================] - 4s 23ms/step - loss: 0.2988 - val_loss: 0.2968\n",
            "Epoch 4/50\n",
            "188/188 [==============================] - 4s 23ms/step - loss: 0.2962 - val_loss: 0.2952\n",
            "Epoch 5/50\n",
            "188/188 [==============================] - 5s 24ms/step - loss: 0.2941 - val_loss: 0.2930\n",
            "Epoch 6/50\n",
            "188/188 [==============================] - 4s 23ms/step - loss: 0.2926 - val_loss: 0.2916\n",
            "Epoch 7/50\n",
            "188/188 [==============================] - 4s 23ms/step - loss: 0.2914 - val_loss: 0.2906\n",
            "Epoch 8/50\n",
            "188/188 [==============================] - 4s 23ms/step - loss: 0.2903 - val_loss: 0.2897\n",
            "Epoch 9/50\n",
            "188/188 [==============================] - 4s 23ms/step - loss: 0.2894 - val_loss: 0.2890\n",
            "Epoch 10/50\n",
            "188/188 [==============================] - 4s 23ms/step - loss: 0.2885 - val_loss: 0.2879\n",
            "Epoch 11/50\n",
            "188/188 [==============================] - 4s 23ms/step - loss: 0.2877 - val_loss: 0.2871\n",
            "Epoch 12/50\n",
            "188/188 [==============================] - 4s 23ms/step - loss: 0.2871 - val_loss: 0.2865\n",
            "Epoch 13/50\n",
            "188/188 [==============================] - 4s 23ms/step - loss: 0.2864 - val_loss: 0.2860\n",
            "Epoch 14/50\n",
            "188/188 [==============================] - 5s 24ms/step - loss: 0.2859 - val_loss: 0.2854\n",
            "Epoch 15/50\n",
            "188/188 [==============================] - 4s 23ms/step - loss: 0.2854 - val_loss: 0.2850\n",
            "Epoch 16/50\n",
            "188/188 [==============================] - 4s 23ms/step - loss: 0.2849 - val_loss: 0.2849\n",
            "Epoch 17/50\n",
            "188/188 [==============================] - 4s 23ms/step - loss: 0.2845 - val_loss: 0.2840\n",
            "Epoch 18/50\n",
            "188/188 [==============================] - 5s 25ms/step - loss: 0.2841 - val_loss: 0.2837\n",
            "Epoch 19/50\n",
            "188/188 [==============================] - 4s 23ms/step - loss: 0.2839 - val_loss: 0.2835\n",
            "Epoch 20/50\n",
            "188/188 [==============================] - 4s 24ms/step - loss: 0.2835 - val_loss: 0.2833\n",
            "Epoch 21/50\n",
            "188/188 [==============================] - 5s 24ms/step - loss: 0.2833 - val_loss: 0.2831\n",
            "Epoch 22/50\n",
            "188/188 [==============================] - 5s 24ms/step - loss: 0.2830 - val_loss: 0.2827\n",
            "Epoch 23/50\n",
            "188/188 [==============================] - 4s 24ms/step - loss: 0.2829 - val_loss: 0.2830\n",
            "Epoch 24/50\n",
            "188/188 [==============================] - 4s 23ms/step - loss: 0.2826 - val_loss: 0.2822\n",
            "Epoch 25/50\n",
            "188/188 [==============================] - 4s 23ms/step - loss: 0.2824 - val_loss: 0.2825\n",
            "Epoch 26/50\n",
            "188/188 [==============================] - 4s 23ms/step - loss: 0.2823 - val_loss: 0.2822\n",
            "Epoch 27/50\n",
            "188/188 [==============================] - 4s 23ms/step - loss: 0.2821 - val_loss: 0.2818\n",
            "Epoch 28/50\n",
            "188/188 [==============================] - 4s 24ms/step - loss: 0.2819 - val_loss: 0.2816\n",
            "Epoch 29/50\n",
            "188/188 [==============================] - 4s 23ms/step - loss: 0.2818 - val_loss: 0.2817\n",
            "Epoch 30/50\n",
            "188/188 [==============================] - 4s 23ms/step - loss: 0.2817 - val_loss: 0.2817\n",
            "Epoch 31/50\n",
            "188/188 [==============================] - 4s 23ms/step - loss: 0.2815 - val_loss: 0.2813\n",
            "Epoch 32/50\n",
            "188/188 [==============================] - 4s 23ms/step - loss: 0.2814 - val_loss: 0.2813\n",
            "Epoch 33/50\n",
            "188/188 [==============================] - 4s 23ms/step - loss: 0.2813 - val_loss: 0.2811\n",
            "Epoch 34/50\n",
            "188/188 [==============================] - 4s 23ms/step - loss: 0.2812 - val_loss: 0.2809\n",
            "Epoch 35/50\n",
            "188/188 [==============================] - 4s 23ms/step - loss: 0.2811 - val_loss: 0.2811\n",
            "Epoch 36/50\n",
            "188/188 [==============================] - 4s 23ms/step - loss: 0.2811 - val_loss: 0.2810\n",
            "Epoch 37/50\n",
            "188/188 [==============================] - 4s 23ms/step - loss: 0.2810 - val_loss: 0.2809\n",
            "Epoch 38/50\n",
            "188/188 [==============================] - 4s 23ms/step - loss: 0.2808 - val_loss: 0.2815\n",
            "Epoch 39/50\n",
            "188/188 [==============================] - 4s 23ms/step - loss: 0.2808 - val_loss: 0.2817\n",
            "Epoch 40/50\n",
            "188/188 [==============================] - 5s 24ms/step - loss: 0.2807 - val_loss: 0.2806\n",
            "Epoch 41/50\n",
            "188/188 [==============================] - 4s 23ms/step - loss: 0.2806 - val_loss: 0.2804\n",
            "Epoch 42/50\n",
            "188/188 [==============================] - 4s 23ms/step - loss: 0.2805 - val_loss: 0.2804\n",
            "Epoch 43/50\n",
            "188/188 [==============================] - 4s 23ms/step - loss: 0.2805 - val_loss: 0.2803\n",
            "Epoch 44/50\n",
            "188/188 [==============================] - 4s 23ms/step - loss: 0.2804 - val_loss: 0.2802\n",
            "Epoch 45/50\n",
            "188/188 [==============================] - 4s 23ms/step - loss: 0.2803 - val_loss: 0.2801\n",
            "Epoch 46/50\n",
            "188/188 [==============================] - 4s 23ms/step - loss: 0.2802 - val_loss: 0.2801\n",
            "Epoch 47/50\n",
            "188/188 [==============================] - 4s 23ms/step - loss: 0.2802 - val_loss: 0.2800\n",
            "Epoch 48/50\n",
            "188/188 [==============================] - 4s 23ms/step - loss: 0.2801 - val_loss: 0.2800\n",
            "Epoch 49/50\n",
            "188/188 [==============================] - 4s 23ms/step - loss: 0.2800 - val_loss: 0.2800\n",
            "Epoch 50/50\n",
            "188/188 [==============================] - 4s 23ms/step - loss: 0.2801 - val_loss: 0.2800\n"
          ]
        },
        {
          "output_type": "execute_result",
          "data": {
            "text/plain": [
              "<keras.callbacks.History at 0x7f704d3b2a90>"
            ]
          },
          "metadata": {},
          "execution_count": 20
        }
      ]
    },
    {
      "cell_type": "code",
      "source": [
        "predictions = autoencoder.predict(x_test)\n",
        "\n",
        "n = 10\n",
        "plt.figure(figsize=(20, 4))\n",
        "for i in range(n):\n",
        "    # noisy\n",
        "    ax = plt.subplot(2, n, i + 1)\n",
        "    plt.imshow(x_test_noisy[i].reshape(28, 28))\n",
        "    plt.gray()\n",
        "    ax.get_xaxis().set_visible(False)\n",
        "    ax.get_yaxis().set_visible(False)\n",
        "\n",
        "    # reconstruction\n",
        "    ax = plt.subplot(2, n, i + 1 + n)\n",
        "    plt.imshow(predictions[i].reshape(28, 28))\n",
        "    plt.gray()\n",
        "    ax.get_xaxis().set_visible(False)\n",
        "    ax.get_yaxis().set_visible(False)\n",
        "plt.show()"
      ],
      "metadata": {
        "colab": {
          "base_uri": "https://localhost:8080/",
          "height": 248
        },
        "id": "BjVjNabR7iJQ",
        "outputId": "4a390201-eef3-4c62-f1b0-9e38ac52b120"
      },
      "execution_count": 21,
      "outputs": [
        {
          "output_type": "display_data",
          "data": {
            "text/plain": [
              "<Figure size 1440x288 with 20 Axes>"
            ],
            "image/png": "[encoded data removed]"
          },
          "metadata": {
            "needs_background": "light"
          }
        }
      ]
    }
  ],
  "metadata": {
    "accelerator": "GPU",
    "colab": {
      "name": "Assignment9.ipynb",
      "provenance": []
    },
    "kernelspec": {
      "display_name": "Python 3",
      "language": "python",
      "name": "python3"
    },
    "language_info": {
      "codemirror_mode": {
        "name": "ipython",
        "version": 3
      },
      "file_extension": ".py",
      "mimetype": "text/x-python",
      "name": "python",
      "nbconvert_exporter": "python",
      "pygments_lexer": "ipython3",
      "version": "3.8.3"
    }
  },
  "nbformat": 4,
  "nbformat_minor": 0
}